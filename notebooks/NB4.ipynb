{
 "cells": [
  {
   "cell_type": "markdown",
   "metadata": {},
   "source": [
    "## Plotting, frequency analysis"
   ]
  },
  {
   "cell_type": "markdown",
   "metadata": {},
   "source": [
    "Sections in this notebook:\n",
    "\n",
    "1. Pick a station\n",
    "2. Plot\n",
    "3. What's next? "
   ]
  },
  {
   "cell_type": "code",
   "execution_count": 6,
   "metadata": {
    "init_cell": true
   },
   "outputs": [],
   "source": [
    "import os\n",
    "import pandas as pd\n",
    "import numpy as np\n",
    "\n",
    "import matplotlib.pyplot as plt\n",
    "%matplotlib widget\n",
    "plt.style.use('ggplot')\n",
    "plt.rcParams['figure.figsize'] = 8, 6\n",
    "\n",
    "import obspy\n",
    "from obspy import UTCDateTime\n",
    "from obspy.imaging import spectrogram\n",
    "\n",
    "import ipywidgets as widgets\n",
    "from ipywidgets import HBox, VBox, interact, Layout\n",
    "style = {'description_width': 'initial'}\n",
    "layout=Layout(width='30%', height='40px')"
   ]
  },
  {
   "cell_type": "markdown",
   "metadata": {},
   "source": [
    "***\n",
    "## 1. Pick a station\n",
    "***"
   ]
  },
  {
   "cell_type": "code",
   "execution_count": 7,
   "metadata": {
    "code_folding": [
     0
    ],
    "init_cell": true
   },
   "outputs": [
    {
     "name": "stdout",
     "output_type": "stream",
     "text": [
      "Pick the file you would like to analyze:\n"
     ]
    },
    {
     "data": {
      "application/vnd.jupyter.widget-view+json": {
       "model_id": "a522f0737b6848d9a0d99f6e684ad77b",
       "version_major": 2,
       "version_minor": 0
      },
      "text/plain": [
       "Dropdown(description='Station file:', options=('PB.B073.T0.LS.2012-01-21', 'PB.B916.T0.RS.2009-02-06'), value=…"
      ]
     },
     "metadata": {},
     "output_type": "display_data"
    },
    {
     "data": {
      "application/vnd.jupyter.widget-view+json": {
       "model_id": "bf17ed493a75443b86a7fabe698c1bef",
       "version_major": 2,
       "version_minor": 0
      },
      "text/plain": [
       "Button(button_style='danger', description='Load files to a dataframe', layout=Layout(height='40px', width='30%…"
      ]
     },
     "metadata": {},
     "output_type": "display_data"
    },
    {
     "data": {
      "application/vnd.jupyter.widget-view+json": {
       "model_id": "0db82728d6304b89bc7f8009c12ad04b",
       "version_major": 2,
       "version_minor": 0
      },
      "text/plain": [
       "Output()"
      ]
     },
     "metadata": {},
     "output_type": "display_data"
    }
   ],
   "source": [
    "# Assign station codes from selected file\n",
    "\n",
    "dir = './DataFiles/Level2/'\n",
    "sta_list = []\n",
    "for file in os.listdir(dir):\n",
    "    if file.endswith('regional_strain_and_corrections.txt'):\n",
    "        sta_list.append(file[0:24])\n",
    "        \n",
    "# Set initial values   \n",
    "file = sta_list[0]\n",
    "network = file[0:2]\n",
    "scode = file[3:7]\n",
    "loc = file[8:10]\n",
    "cha = file[11:13]\n",
    "\n",
    "print('Pick the file you would like to analyze:')\n",
    "sta_select = widgets.Dropdown(\n",
    "            options=sta_list,\n",
    "            value=sta_list[0],\n",
    "            description='Station file:',\n",
    "            )\n",
    "display(sta_select)\n",
    "\n",
    "# Change the station and network as the dropdown is changed\n",
    "def the_ccodes(siteval):\n",
    "    global scode, network, loc, cha, file\n",
    "    file = siteval\n",
    "    network = siteval[0:2]\n",
    "    scode = siteval[3:7]\n",
    "    loc = siteval[8:10]\n",
    "    cha = siteval[11:13]\n",
    "def on_cselect(change):\n",
    "    the_ccodes(change.new)\n",
    "sta_select.observe(on_cselect,names='value')\n",
    "\n",
    "# Load the strains and corrections to a dataframe\n",
    "\n",
    "# Make a dataframe with the file and assign start and end dates\n",
    "fbutton = widgets.Button(description=\"Load files to a dataframe\", button_style='danger',layout=layout)\n",
    "foutput = widgets.Output()\n",
    "\n",
    "# Initial start and end times (arbitrarily chosen)\n",
    "start = UTCDateTime('2000-01-01 00:00:00.000')\n",
    "end = UTCDateTime('2000-01-02 00:00:00.000')\n",
    "\n",
    "def on_fbutton_clicked(b):\n",
    "    with foutput:\n",
    "        foutput.clear_output()\n",
    "        global df, start, end\n",
    "        df = pd.DataFrame([])\n",
    "        for files in os.listdir(dir):\n",
    "            if files.startswith(file):\n",
    "                # Print file comments\n",
    "                with open(dir+files,'r') as f:\n",
    "                    for ln in f:\n",
    "                        if ln.startswith('#'):\n",
    "                            print('File comment: '+ ln[1:])\n",
    "                f.close()\n",
    "                adf = pd.read_csv(dir+files,sep='\\t',index_col=0,header=0,comment='#')\n",
    "                df = pd.concat([df,adf],axis='columns')\n",
    "        print('Wait for the dataframe column headers to print.')\n",
    "\n",
    "        ind = []\n",
    "        for i in range(0,len(df)):\n",
    "            ind.append(UTCDateTime(df.index[i]))\n",
    "        df.index = ind\n",
    "        start = df.index[0]\n",
    "        end = df.index[-1]\n",
    "        print(df.columns)\n",
    "fbutton.on_click(on_fbutton_clicked)\n",
    "\n",
    "\n",
    "display(fbutton, foutput)"
   ]
  },
  {
   "cell_type": "markdown",
   "metadata": {},
   "source": [
    "***\n",
    "## 2. Plot\n",
    "***"
   ]
  },
  {
   "cell_type": "code",
   "execution_count": 8,
   "metadata": {
    "code_folding": [
     0
    ],
    "init_cell": true,
    "scrolled": false
   },
   "outputs": [
    {
     "data": {
      "application/vnd.jupyter.widget-view+json": {
       "model_id": "5551bf034cef4be588b57ba05c2096e4",
       "version_major": 2,
       "version_minor": 0
      },
      "text/plain": [
       "VBox(children=(HBox(children=(SelectMultiple(description='Corrections to apply:', options={'Pressure': 1, 'Lin…"
      ]
     },
     "metadata": {},
     "output_type": "display_data"
    }
   ],
   "source": [
    "# Interactive plotting\n",
    "        \n",
    "# Set initial values\n",
    "correct = {'Pressure':1, 'Linear':2, 'Tides':3}\n",
    "A = widgets.SelectMultiple(\n",
    "    options=correct,\n",
    "    description='Corrections to apply:',\n",
    "    disabled=False, style=style\n",
    "    )\n",
    "\n",
    "plot = {'ch0':0, 'ch1':1, 'ch2':2, 'ch3':3, 'Areal':'EA','Differential Shear':'ED','Engineering Shear':'ES'}\n",
    "B = widgets.SelectMultiple(\n",
    "    options=plot,\n",
    "    description='Plot:',\n",
    "    disabled=False, style=style\n",
    "    )\n",
    "plot_corr = {'Pressure Correction':1,'Modelled Tides':2,'Linear Trend':3}\n",
    "C = widgets.SelectMultiple(\n",
    "    options=plot_corr,\n",
    "    description='Include Correction:',\n",
    "    disabled=False, style=style\n",
    "    )\n",
    "display()\n",
    "pbutton = widgets.Button(description=\"Plot\", button_style='danger')\n",
    "poutput = widgets.Output()\n",
    "\n",
    "def on_pbutton_clicking(but):\n",
    "    with poutput:\n",
    "        poutput.clear_output()\n",
    "        print('Working on it...')\n",
    "        plt.close()\n",
    "        cor_ch = {'0':None,'1':None,'2':None,'3':None}\n",
    "        for ch in cor_ch:\n",
    "            if (1 in A.value) == True:\n",
    "                p = 1\n",
    "            else:\n",
    "                p = 0\n",
    "            if (2 in A.value) == True:\n",
    "                l = 1\n",
    "            else:\n",
    "                l = 0\n",
    "            if (3 in A.value) == True: \n",
    "                t = 1\n",
    "            else: t = 0\n",
    "            # Corrected gauge data\n",
    "            cor_ch[ch] = df['ch'+ch+' [ms]'] - df['baro_ch'+ch] * p - df['trend_ch'+ch] * l - df['tide_ch'+ch] * t\n",
    "        # if areal and/or shears are selected, apply corrections\n",
    "        cor_reg = {'EA':None,'ED':None,'ES':None}\n",
    "        for reg in cor_reg:\n",
    "            # corrected regional strains\n",
    "            cor_reg[reg] = df['gauge'+reg] - df['baro'+reg] * p - df['trend'+reg] * l - df['tide'+reg] * t\n",
    "        # Nice time for plotting\n",
    "        xtime = (df.index - df.index[0])/60/60/24\n",
    "        # if gauges are selected, plot gauge strain\n",
    "        if (0 in B.value) == True: plt.plot(xtime,cor_ch['0'],label='ch0')\n",
    "        if (1 in B.value) == True: plt.plot(xtime,cor_ch['1'],label='ch1')\n",
    "        if (2 in B.value) == True: plt.plot(xtime,cor_ch['2'],label='ch2')\n",
    "        if (3 in B.value) == True: plt.plot(xtime,cor_ch['3'],label='ch3')\n",
    "        # if regional strains are selected, plot regional strains\n",
    "        if ('EA' in B.value) == True: plt.plot(xtime,cor_reg['EA'],label='Areal')\n",
    "        if ('ED' in B.value) == True: plt.plot(xtime,cor_reg['ED'],label='Differential Shear')\n",
    "        if ('ES' in B.value) == True: plt.plot(xtime,cor_reg['ES'],label='Engineering Shear')\n",
    "        # if corrections are selected, plot the corrections\n",
    "        correction = []\n",
    "        for i in [1,2,3]:\n",
    "            if (1 in C.value) == True:\n",
    "                correction.append('baro')\n",
    "            else:\n",
    "                correction.append(0)\n",
    "            if (2 in C.value) == True:\n",
    "                correction.append('tide')\n",
    "            else:\n",
    "                correction.append(0)\n",
    "            if (3 in C.value) == True:\n",
    "                correction.append('trend')\n",
    "            else:\n",
    "                correction.append(0)\n",
    "            if correction[i] != 0:\n",
    "                if 0 in B.value: plt.plot(xtime,df[correction[i]+'_ch0'],label='ch0 '+correction[i]) \n",
    "                if 1 in B.value: plt.plot(xtime,df[correction[i]+'_ch1'],label='ch1 '+correction[i]) \n",
    "                if 2 in B.value: plt.plot(xtime,df[correction[i]+'_ch2'],label='ch2 '+correction[i]) \n",
    "                if 3 in B.value: plt.plot(xtime,df[correction[i]+'_ch3'],label='ch3 '+correction[i]) \n",
    "                if 'EA' in B.value: plt.plot(xtime,df[correction[i]+'EA'],label='EA '+correction[i])\n",
    "                if 'ED' in B.value: plt.plot(xtime,df[correction[i]+'ED'],label='ED '+correction[i])\n",
    "                if 'ES' in B.value: plt.plot(xtime,df[correction[i]+'ES'],label='ES '+correction[i])\n",
    "        plt.legend()\n",
    "        plt.title(scode+' strain')\n",
    "        plt.xlabel('Days from '+str(start)[0:10]+' '+str(start)[11:19])\n",
    "        plt.ylabel('Microstrain')\n",
    "pbutton.on_click(on_pbutton_clicking)\n",
    "\n",
    "display(VBox([HBox([A,B,C]),pbutton, poutput]))"
   ]
  },
  {
   "cell_type": "markdown",
   "metadata": {},
   "source": [
    "***\n",
    "## 3. What next?\n",
    "***\n",
    "\n",
    "It's up to you! You could do a frequency analysis, examine the residuals, take a look at pore pressure sensor info for the station... there is quite a lot of science to be done. All of the data files and notebooks changes you have made so far are saved on your machine in your `/bsm_tutorial/notebooks/` directory.\n",
    "\n",
    "Matplotlib has power spectral density and spectrogram utilities that you may find interesting. Here is some example code that could be modified:\n",
    "\n",
    "`samp_freq =(len(df)-1)/(end-start)\n",
    "NQ = samp_freq*2\n",
    "plt.close()` <br>\n",
    "choose <br>\n",
    "`plt.psd(df['ch0 [ms]'].values,Fs=samp_freq,NFFT=2048)` <br>\n",
    "OR <br>\n",
    "`plt.specgram(df['ch0 [ms]'].values,Fs=samp_freq,NFFT=1024)`\n"
   ]
  },
  {
   "cell_type": "code",
   "execution_count": 9,
   "metadata": {
    "init_cell": true,
    "scrolled": false
   },
   "outputs": [
    {
     "data": {
      "application/vnd.jupyter.widget-view+json": {
       "model_id": "31b697dcf6f24c6e97f51c901f608f27",
       "version_major": 2,
       "version_minor": 0
      },
      "text/plain": [
       "Canvas(toolbar=Toolbar(toolitems=[('Home', 'Reset original view', 'home', 'home'), ('Back', 'Back to previous …"
      ]
     },
     "metadata": {},
     "output_type": "display_data"
    },
    {
     "data": {
      "text/plain": [
       "(array([  5.10165014e+00,   2.57294826e+00,   1.44412078e-03, ...,\n",
       "          1.33160759e-08,   1.45781151e-08,   9.08806204e-09]),\n",
       " array([  0.00000000e+00,   4.88281250e-04,   9.76562500e-04, ...,\n",
       "          4.99023438e-01,   4.99511719e-01,   5.00000000e-01]))"
      ]
     },
     "execution_count": 9,
     "metadata": {},
     "output_type": "execute_result"
    }
   ],
   "source": [
    "# Make a spectrogram\n",
    "samp_freq =(len(df)-1)/(end-start)\n",
    "NQ = samp_freq*2\n",
    "plt.close()\n",
    "plt.psd(df['ch0 [ms]'].values,Fs=samp_freq,NFFT=2048)\n",
    "#plt.specgram(df['ch0 [ms]'].values,Fs=samp_freq,NFFT=2048)"
   ]
  },
  {
   "cell_type": "code",
   "execution_count": null,
   "metadata": {},
   "outputs": [],
   "source": []
  }
 ],
 "metadata": {
  "celltoolbar": "Initialization Cell",
  "kernelspec": {
   "display_name": "Python 3",
   "language": "python",
   "name": "python3"
  },
  "language_info": {
   "codemirror_mode": {
    "name": "ipython",
    "version": 3
   },
   "file_extension": ".py",
   "mimetype": "text/x-python",
   "name": "python",
   "nbconvert_exporter": "python",
   "pygments_lexer": "ipython3",
   "version": "3.8.4"
  }
 },
 "nbformat": 4,
 "nbformat_minor": 4
}
