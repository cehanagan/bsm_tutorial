{
 "cells": [
  {
   "cell_type": "markdown",
   "metadata": {},
   "source": [
    "## Plotting, frequency analysis"
   ]
  },
  {
   "cell_type": "markdown",
   "metadata": {},
   "source": [
    "Sections in this notebook:\n",
    "\n",
    "1. Pick a station\n",
    "2. Plot\n",
    "3. What's next? "
   ]
  },
  {
   "cell_type": "code",
   "execution_count": 1,
   "metadata": {
    "init_cell": true
   },
   "outputs": [],
   "source": [
    "import os\n",
    "import pandas as pd\n",
    "import numpy as np\n",
    "\n",
    "import matplotlib.pyplot as plt\n",
    "%matplotlib widget\n",
    "plt.style.use('ggplot')\n",
    "plt.rcParams['figure.figsize'] = 8, 6\n",
    "\n",
    "import obspy\n",
    "from obspy import UTCDateTime\n",
    "from obspy.imaging import spectrogram\n",
    "\n",
    "import ipywidgets as widgets\n",
    "from ipywidgets import HBox, VBox, interact, Layout\n",
    "style = {'description_width': 'initial'}\n",
    "layout=Layout(width='30%', height='40px')"
   ]
  },
  {
   "cell_type": "markdown",
   "metadata": {},
   "source": [
    "***\n",
    "## 1. Pick a station\n",
    "***"
   ]
  },
  {
   "cell_type": "code",
   "execution_count": 6,
   "metadata": {
    "code_folding": [
     0
    ],
    "init_cell": true
   },
   "outputs": [
    {
     "name": "stdout",
     "output_type": "stream",
     "text": [
      "Pick the file you would like to analyze:\n"
     ]
    },
    {
     "data": {
      "application/vnd.jupyter.widget-view+json": {
       "model_id": "1b98a3f98e9c4643970a585210265a19",
       "version_major": 2,
       "version_minor": 0
      },
      "text/plain": [
       "Dropdown(description='Station file:', options=('PB.B916.T0.LS.2019-06-27', 'PB.B916.T0.RS.2019-06-01', 'PB.B91…"
      ]
     },
     "metadata": {},
     "output_type": "display_data"
    },
    {
     "data": {
      "application/vnd.jupyter.widget-view+json": {
       "model_id": "5f152e5844bd4bcb90618729d1348bad",
       "version_major": 2,
       "version_minor": 0
      },
      "text/plain": [
       "Button(button_style='danger', description='Load files to a dataframe', layout=Layout(height='40px', width='30%…"
      ]
     },
     "metadata": {},
     "output_type": "display_data"
    },
    {
     "data": {
      "application/vnd.jupyter.widget-view+json": {
       "model_id": "67509bd176344f84b423f412afedc324",
       "version_major": 2,
       "version_minor": 0
      },
      "text/plain": [
       "Output()"
      ]
     },
     "metadata": {},
     "output_type": "display_data"
    }
   ],
   "source": [
    "# Assign station codes from selected file\n",
    "\n",
    "dir = './DataFiles/Level2/'\n",
    "sta_list = []; file_list = []\n",
    "for file in os.listdir(dir):\n",
    "    if file.endswith('regional_strain_and_corrections.txt'):\n",
    "        sta_list.append(file[0:24])\n",
    "dir2 = './DataFiles/Level2Comb/'    \n",
    "for file in os.listdir(dir2):\n",
    "    if file.endswith('Level2Comb.txt'):\n",
    "        sta_list.append(file[0:40])\n",
    "        \n",
    "# Set initial values   \n",
    "file = sta_list[0]\n",
    "network = file[0:2]\n",
    "scode = file[3:7]\n",
    "loc = file[8:10]\n",
    "cha = file[11:13]\n",
    "\n",
    "print('Pick the file you would like to analyze:')\n",
    "sta_select = widgets.Dropdown(\n",
    "            options=sta_list,\n",
    "            value=sta_list[0],\n",
    "            description='Station file:',\n",
    "            )\n",
    "display(sta_select)\n",
    "\n",
    "# Change the station and network as the dropdown is changed\n",
    "def the_ccodes(siteval):\n",
    "    global scode, network, loc, cha, file\n",
    "    file = siteval\n",
    "    network = siteval[0:2]\n",
    "    scode = siteval[3:7]\n",
    "    loc = siteval[8:10]\n",
    "    cha = siteval[11:13]\n",
    "def on_cselect(change):\n",
    "    the_ccodes(change.new)\n",
    "sta_select.observe(on_cselect,names='value')\n",
    "\n",
    "# Load the strains and corrections to a dataframe\n",
    "\n",
    "# Make a dataframe with the file and assign start and end dates\n",
    "fbutton = widgets.Button(description=\"Load files to a dataframe\", button_style='danger',layout=layout)\n",
    "foutput = widgets.Output()\n",
    "\n",
    "# Initial start and end times (arbitrarily chosen)\n",
    "start = UTCDateTime('2000-01-01 00:00:00.000')\n",
    "end = UTCDateTime('2000-01-02 00:00:00.000')\n",
    "\n",
    "def on_fbutton_clicked(b):\n",
    "    with foutput:\n",
    "        foutput.clear_output()\n",
    "        global df, start, end\n",
    "        df = pd.DataFrame([])\n",
    "        for files in os.listdir(dir):\n",
    "            if files.endswith(file+'_regional_strain_and_corrections.txt') or files.endswith(file+'_gauge_strain_and_corrections.txt'):\n",
    "                # Print file comments\n",
    "                with open(dir+files,'r') as f:\n",
    "                    for ln in f:\n",
    "                        if ln.startswith('#'):\n",
    "                            print('File comment: '+ ln[1:])\n",
    "                f.close()\n",
    "                adf = pd.read_csv(dir+files,sep='\\t',index_col=0,header=0,comment='#')\n",
    "                df = pd.concat([df,adf],axis='columns')\n",
    "        for files in os.listdir(dir2):\n",
    "            if files.endswith(file+'_Level2Comb.txt'):\n",
    "                adf = pd.read_csv(dir2+files,sep='\\t',index_col=0,header=0,comment='#')\n",
    "                df = adf\n",
    "        print('Wait for the dataframe column headers to print.')\n",
    "\n",
    "        ind = []\n",
    "        for i in range(0,len(df)):\n",
    "            ind.append(UTCDateTime(df.index[i]))\n",
    "        df.index = ind\n",
    "        start = df.index[0]\n",
    "        end = df.index[-1]\n",
    "        print(df.columns)\n",
    "fbutton.on_click(on_fbutton_clicked)\n",
    "\n",
    "\n",
    "display(fbutton, foutput)"
   ]
  },
  {
   "cell_type": "markdown",
   "metadata": {},
   "source": [
    "***\n",
    "### 1.1 [Optional] Combine timeseries\n",
    "***\n",
    "\n",
    "After the first timeseries is chosen from the dropdown above, you can choose another file (which should follow consecutively in time) to combine to the existing time series."
   ]
  },
  {
   "cell_type": "code",
   "execution_count": 84,
   "metadata": {
    "code_folding": [
     0
    ]
   },
   "outputs": [
    {
     "name": "stdout",
     "output_type": "stream",
     "text": [
      "Pick the file you would like to add:\n"
     ]
    },
    {
     "data": {
      "application/vnd.jupyter.widget-view+json": {
       "model_id": "590df30952b64a9aa65e44def054c5c3",
       "version_major": 2,
       "version_minor": 0
      },
      "text/plain": [
       "Dropdown(description='Station file:', options=('PB.B916.T0.RS.2019-06-01', 'PB.B916.T0.RS.2019-07-01', 'PB.B92…"
      ]
     },
     "metadata": {},
     "output_type": "display_data"
    },
    {
     "data": {
      "application/vnd.jupyter.widget-view+json": {
       "model_id": "d09440f7bb4244fda18bd340e2b975a7",
       "version_major": 2,
       "version_minor": 0
      },
      "text/plain": [
       "Button(button_style='danger', description='Add the file to the dataframe', layout=Layout(height='40px', width=…"
      ]
     },
     "metadata": {},
     "output_type": "display_data"
    },
    {
     "data": {
      "application/vnd.jupyter.widget-view+json": {
       "model_id": "cd4b710df92c4ed68c5c735f738754e7",
       "version_major": 2,
       "version_minor": 0
      },
      "text/plain": [
       "Output()"
      ]
     },
     "metadata": {},
     "output_type": "display_data"
    }
   ],
   "source": [
    "# Assign station codes from selected file\n",
    "\n",
    "dir = './DataFiles/Level2/'\n",
    "sta_list = []\n",
    "for file in os.listdir(dir):\n",
    "    if file.endswith('regional_strain_and_corrections.txt'):\n",
    "        sta_list.append(file[0:24])\n",
    "        \n",
    "# Set initial values   \n",
    "file = sta_list[0]\n",
    "network = file[0:2]\n",
    "scode = file[3:7]\n",
    "loc = file[8:10]\n",
    "cha = file[11:13]\n",
    "\n",
    "print('Pick the file you would like to add:')\n",
    "sta_select = widgets.Dropdown(\n",
    "            options=sta_list,\n",
    "            value=sta_list[0],\n",
    "            description='Station file:',\n",
    "            )\n",
    "display(sta_select)\n",
    "\n",
    "# Change the station and network as the dropdown is changed\n",
    "def the_ccodes(siteval):\n",
    "    global scode, network, loc, cha, file\n",
    "    file = siteval\n",
    "    network = siteval[0:2]\n",
    "    scode = siteval[3:7]\n",
    "    loc = siteval[8:10]\n",
    "    cha = siteval[11:13]\n",
    "def on_cselect(change):\n",
    "    the_ccodes(change.new)\n",
    "sta_select.observe(on_cselect,names='value')\n",
    "\n",
    "# Load the strains and corrections to a dataframe\n",
    "\n",
    "# Make a dataframe with the file and assign start and end dates\n",
    "fbutton = widgets.Button(description=\"Add the file to the dataframe\", button_style='danger',layout=layout)\n",
    "foutput = widgets.Output()\n",
    "\n",
    "# Initial start and end times (arbitrarily chosen)\n",
    "start = UTCDateTime('2000-01-01 00:00:00.000')\n",
    "end = UTCDateTime('2000-01-02 00:00:00.000')\n",
    "\n",
    "def on_fbutton_clicked(b):\n",
    "    with foutput:\n",
    "        foutput.clear_output()\n",
    "        print('Might have to press button twice... unexplained bug, yikes.')\n",
    "        global df, start, end, ndf\n",
    "        ndf = pd.DataFrame([])\n",
    "        for files in os.listdir(dir):\n",
    "            if files.startswith(file):\n",
    "                adf = pd.read_csv(dir+files,sep='\\t',index_col=0,header=0,comment='#')\n",
    "                ndf = pd.concat([ndf,adf],axis='columns')\n",
    "        for i in np.concatenate([df.columns[0:4].values,df.columns[16:19].values]):\n",
    "            ndf[i] = ndf[i] + df[i][-1]\n",
    "        df = pd.concat([df,ndf])\n",
    "        print('Wait for the dataframe start and end times to display.')\n",
    "        start = df.index[0]\n",
    "        end = df.index[-1]\n",
    "        print(start, end)\n",
    "        \n",
    "        chkf = widgets.Checkbox(value=False,\n",
    "                                description='Save combined data file?',\n",
    "                                disabled=False, style=style)\n",
    "        anoutput = widgets.Output()\n",
    "        display(chkf,anoutput)\n",
    "        def on_checkf(c):\n",
    "            with anoutput:\n",
    "                anoutput.clear_output()\n",
    "                dir = './DataFiles/Level2Comb/'\n",
    "                file = network + '.' + scode + '.' + loc + '.' + cha + '.' +str(start)[0:13]+str(end)[0:13]+'_Level2Comb.txt'\n",
    "                os.makedirs(dir, exist_ok=True)\n",
    "                df.to_csv(dir+file,sep='\\t',index=True,mode='w')\n",
    "                print('Saved!')\n",
    "        chkf.observe(on_checkf,'value')\n",
    "        \n",
    "fbutton.on_click(on_fbutton_clicked)\n",
    "display(fbutton, foutput)"
   ]
  },
  {
   "cell_type": "markdown",
   "metadata": {},
   "source": [
    "***\n",
    "## 2. Plot\n",
    "***"
   ]
  },
  {
   "cell_type": "code",
   "execution_count": 7,
   "metadata": {
    "code_folding": [
     0
    ],
    "init_cell": true,
    "scrolled": false
   },
   "outputs": [
    {
     "data": {
      "application/vnd.jupyter.widget-view+json": {
       "model_id": "903054e6e7bb4faf9cfe551a7ee3eb92",
       "version_major": 2,
       "version_minor": 0
      },
      "text/plain": [
       "VBox(children=(HBox(children=(SelectMultiple(description='Corrections to apply:', options={'Pressure': 1, 'Lin…"
      ]
     },
     "metadata": {},
     "output_type": "display_data"
    }
   ],
   "source": [
    "# Interactive plotting\n",
    "        \n",
    "# Set initial values\n",
    "correct = {'Pressure':1, 'Linear':2, 'Tides':3}\n",
    "A = widgets.SelectMultiple(\n",
    "    options=correct,\n",
    "    description='Corrections to apply:',\n",
    "    disabled=False, style=style\n",
    "    )\n",
    "\n",
    "plot = {'ch0':0, 'ch1':1, 'ch2':2, 'ch3':3, 'Areal':'EA','Differential Shear':'ED','Engineering Shear':'ES'}\n",
    "B = widgets.SelectMultiple(\n",
    "    options=plot,\n",
    "    description='Plot:',\n",
    "    disabled=False, style=style\n",
    "    )\n",
    "plot_corr = {'Pressure Correction':1,'Modelled Tides':2,'Linear Trend':3}\n",
    "C = widgets.SelectMultiple(\n",
    "    options=plot_corr,\n",
    "    description='Include Correction:',\n",
    "    disabled=False, style=style\n",
    "    )\n",
    "display()\n",
    "pbutton = widgets.Button(description=\"Plot\", button_style='danger')\n",
    "poutput = widgets.Output()\n",
    "\n",
    "def on_pbutton_clicking(but):\n",
    "    with poutput:\n",
    "        poutput.clear_output()\n",
    "        print('Working on it...')\n",
    "        plt.close()\n",
    "        cor_ch = {'0':None,'1':None,'2':None,'3':None}\n",
    "        for ch in cor_ch:\n",
    "            if (1 in A.value) == True:\n",
    "                p = 1\n",
    "            else:\n",
    "                p = 0\n",
    "            if (2 in A.value) == True:\n",
    "                l = 1\n",
    "            else:\n",
    "                l = 0\n",
    "            if (3 in A.value) == True: \n",
    "                t = 1\n",
    "            else: t = 0\n",
    "            # Corrected gauge data\n",
    "            cor_ch[ch] = df['ch'+ch+' [ms]'] - df['baro_ch'+ch] * p - df['trend_ch'+ch] * l - df['tide_ch'+ch] * t\n",
    "        # if areal and/or shears are selected, apply corrections\n",
    "        cor_reg = {'EA':None,'ED':None,'ES':None}\n",
    "        for reg in cor_reg:\n",
    "            # corrected regional strains\n",
    "            cor_reg[reg] = df['gauge'+reg] - df['baro'+reg] * p - df['trend'+reg] * l - df['tide'+reg] * t\n",
    "        # Nice time for plotting\n",
    "        xtime = (df.index - df.index[0])/60/60/24\n",
    "        # if gauges are selected, plot gauge strain\n",
    "        if (0 in B.value) == True: plt.plot(xtime,cor_ch['0'],label='ch0')\n",
    "        if (1 in B.value) == True: plt.plot(xtime,cor_ch['1'],label='ch1')\n",
    "        if (2 in B.value) == True: plt.plot(xtime,cor_ch['2'],label='ch2')\n",
    "        if (3 in B.value) == True: plt.plot(xtime,cor_ch['3'],label='ch3')\n",
    "        # if regional strains are selected, plot regional strains\n",
    "        if ('EA' in B.value) == True: plt.plot(xtime,cor_reg['EA'],label='Areal')\n",
    "        if ('ED' in B.value) == True: plt.plot(xtime,cor_reg['ED'],label='Differential Shear')\n",
    "        if ('ES' in B.value) == True: plt.plot(xtime,cor_reg['ES'],label='Engineering Shear')\n",
    "        # if corrections are selected, plot the corrections\n",
    "        correction = []\n",
    "        for i in [1,2,3]:\n",
    "            if (1 in C.value) == True:\n",
    "                correction.append('baro')\n",
    "            else:\n",
    "                correction.append(0)\n",
    "            if (2 in C.value) == True:\n",
    "                correction.append('tide')\n",
    "            else:\n",
    "                correction.append(0)\n",
    "            if (3 in C.value) == True:\n",
    "                correction.append('trend')\n",
    "            else:\n",
    "                correction.append(0)\n",
    "            if correction[i] != 0:\n",
    "                if 0 in B.value: plt.plot(xtime,df[correction[i]+'_ch0'],label='ch0 '+correction[i]) \n",
    "                if 1 in B.value: plt.plot(xtime,df[correction[i]+'_ch1'],label='ch1 '+correction[i]) \n",
    "                if 2 in B.value: plt.plot(xtime,df[correction[i]+'_ch2'],label='ch2 '+correction[i]) \n",
    "                if 3 in B.value: plt.plot(xtime,df[correction[i]+'_ch3'],label='ch3 '+correction[i]) \n",
    "                if 'EA' in B.value: plt.plot(xtime,df[correction[i]+'EA'],label='EA '+correction[i])\n",
    "                if 'ED' in B.value: plt.plot(xtime,df[correction[i]+'ED'],label='ED '+correction[i])\n",
    "                if 'ES' in B.value: plt.plot(xtime,df[correction[i]+'ES'],label='ES '+correction[i])\n",
    "        plt.legend()\n",
    "        plt.title(scode+' strain')\n",
    "        plt.xlabel('Days from '+str(start)[0:10]+' '+str(start)[11:19])\n",
    "        plt.ylabel('Microstrain')\n",
    "pbutton.on_click(on_pbutton_clicking)\n",
    "\n",
    "display(VBox([HBox([A,B,C]),pbutton, poutput]))"
   ]
  },
  {
   "cell_type": "markdown",
   "metadata": {},
   "source": [
    "***\n",
    "## 3. What next?\n",
    "***\n",
    "\n",
    "It's up to you! You could do a frequency analysis, examine the residuals, take a look at pore pressure sensor info for the station... there is quite a lot of science to be done. All of the data files and notebooks changes you have made so far are saved on your machine in your `/bsm_tutorial/notebooks/` directory.\n",
    "\n",
    "Matplotlib has power spectral density and spectrogram utilities that you may find interesting. Here is some example code that could be modified:\n",
    "\n",
    "`samp_freq =(len(df)-1)/(end-start)\n",
    "NQ = samp_freq*2\n",
    "plt.close()` <br>\n",
    "choose <br>\n",
    "`plt.psd(df['ch0 [ms]'].values,Fs=samp_freq,NFFT=2048)` <br>\n",
    "OR <br>\n",
    "`plt.specgram(df['ch0 [ms]'].values,Fs=samp_freq,NFFT=1024)`\n"
   ]
  },
  {
   "cell_type": "code",
   "execution_count": 8,
   "metadata": {
    "init_cell": true,
    "scrolled": false
   },
   "outputs": [
    {
     "ename": "NameError",
     "evalue": "name 'df' is not defined",
     "output_type": "error",
     "traceback": [
      "\u001b[0;31m\u001b[0m",
      "\u001b[0;31mNameError\u001b[0mTraceback (most recent call last)",
      "\u001b[0;32m<ipython-input-8-748b0dfa71e0>\u001b[0m in \u001b[0;36m<module>\u001b[0;34m\u001b[0m\n\u001b[1;32m      1\u001b[0m \u001b[0;31m# Make a spectrogram\u001b[0m\u001b[0;34m\u001b[0m\u001b[0;34m\u001b[0m\u001b[0;34m\u001b[0m\u001b[0m\n\u001b[0;32m----> 2\u001b[0;31m \u001b[0msamp_freq\u001b[0m \u001b[0;34m=\u001b[0m\u001b[0;34m(\u001b[0m\u001b[0mlen\u001b[0m\u001b[0;34m(\u001b[0m\u001b[0mdf\u001b[0m\u001b[0;34m)\u001b[0m\u001b[0;34m-\u001b[0m\u001b[0;36m1\u001b[0m\u001b[0;34m)\u001b[0m\u001b[0;34m/\u001b[0m\u001b[0;34m(\u001b[0m\u001b[0mend\u001b[0m\u001b[0;34m-\u001b[0m\u001b[0mstart\u001b[0m\u001b[0;34m)\u001b[0m\u001b[0;34m\u001b[0m\u001b[0;34m\u001b[0m\u001b[0m\n\u001b[0m\u001b[1;32m      3\u001b[0m \u001b[0mNQ\u001b[0m \u001b[0;34m=\u001b[0m \u001b[0msamp_freq\u001b[0m\u001b[0;34m*\u001b[0m\u001b[0;36m2\u001b[0m\u001b[0;34m\u001b[0m\u001b[0;34m\u001b[0m\u001b[0m\n\u001b[1;32m      4\u001b[0m \u001b[0mplt\u001b[0m\u001b[0;34m.\u001b[0m\u001b[0mclose\u001b[0m\u001b[0;34m(\u001b[0m\u001b[0;34m)\u001b[0m\u001b[0;34m\u001b[0m\u001b[0;34m\u001b[0m\u001b[0m\n\u001b[1;32m      5\u001b[0m \u001b[0mplt\u001b[0m\u001b[0;34m.\u001b[0m\u001b[0mpsd\u001b[0m\u001b[0;34m(\u001b[0m\u001b[0mdf\u001b[0m\u001b[0;34m[\u001b[0m\u001b[0;34m'ch1 [ms]'\u001b[0m\u001b[0;34m]\u001b[0m\u001b[0;34m.\u001b[0m\u001b[0mvalues\u001b[0m\u001b[0;34m,\u001b[0m\u001b[0mFs\u001b[0m\u001b[0;34m=\u001b[0m\u001b[0msamp_freq\u001b[0m\u001b[0;34m,\u001b[0m\u001b[0mNFFT\u001b[0m\u001b[0;34m=\u001b[0m\u001b[0;36m2048\u001b[0m\u001b[0;34m)\u001b[0m\u001b[0;34m\u001b[0m\u001b[0;34m\u001b[0m\u001b[0m\n",
      "\u001b[0;31mNameError\u001b[0m: name 'df' is not defined"
     ]
    }
   ],
   "source": [
    "# Make a spectrogram\n",
    "samp_freq =(len(df)-1)/(end-start)\n",
    "NQ = samp_freq*2\n",
    "plt.close()\n",
    "plt.psd(df['ch1 [ms]'].values,Fs=samp_freq,NFFT=2048)\n",
    "#plt.specgram(df['ch0 [ms]'].values,Fs=samp_freq,NFFT=2048)"
   ]
  },
  {
   "cell_type": "code",
   "execution_count": null,
   "metadata": {},
   "outputs": [],
   "source": []
  }
 ],
 "metadata": {
  "celltoolbar": "Initialization Cell",
  "kernelspec": {
   "display_name": "Python 3",
   "language": "python",
   "name": "python3"
  },
  "language_info": {
   "codemirror_mode": {
    "name": "ipython",
    "version": 3
   },
   "file_extension": ".py",
   "mimetype": "text/x-python",
   "name": "python",
   "nbconvert_exporter": "python",
   "pygments_lexer": "ipython3",
   "version": "3.8.8"
  }
 },
 "nbformat": 4,
 "nbformat_minor": 4
}
